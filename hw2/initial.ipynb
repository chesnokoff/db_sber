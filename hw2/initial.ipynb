{
 "cells": [
  {
   "cell_type": "code",
   "execution_count": 1,
   "metadata": {
    "collapsed": true,
    "pycharm": {
     "name": "#%%\n"
    }
   },
   "outputs": [],
   "source": [
    "import pandas as pd\n",
    "import copy\n",
    "import json"
   ]
  },
  {
   "cell_type": "code",
   "execution_count": 2,
   "outputs": [],
   "source": [
    "df = pd.read_json(\"data.json\")"
   ],
   "metadata": {
    "collapsed": false,
    "pycharm": {
     "name": "#%%\n"
    }
   }
  },
  {
   "cell_type": "code",
   "execution_count": 3,
   "outputs": [
    {
     "data": {
      "text/plain": "{'id': 'AVpgMuGwLJeJML43KY_c',\n 'prices.amountMax': 69.99,\n 'prices.amountMin': 69.99,\n 'prices.availability': 'Yes',\n 'prices.condition': 'New',\n 'prices.currency': 'USD',\n 'prices.dateSeen': '2017-10-10T05:00:00Z',\n 'prices.isSale': 'False',\n 'prices.merchant': 'Bestbuy.com',\n 'prices.shipping': 'nan',\n 'prices.sourceURLs': 'https://www.bestbuy.com/site/boytone-2500w-2-1-ch-home-theater-system-black-diamond/4784804.p%25253FskuId%25253D4784804',\n 'asins': 'B018K251JE,B00VILQKQ8',\n 'brand': 'Boytone',\n 'categories': 'Stereos,Portable Bluetooth Speakers,TV, Video & Home Audio,Speaker Systems,Portable Audio & Video,Electronics,See more Black BOYTONE Bt-210f 30 Watt FM Radio Bluetoo...,Speakers,Home Audio & Theater,All Home Speakers,Consumer Electronics,See more BOYTONE Bt-210f Bluetooth Wireless Speaker Mp3...,Home Theater Systems,MP3 Player Accessories,Home Audio,Audio,Cell,Stereo Shelf Systems',\n 'dateAdded': '2015-05-18T14:14:56Z',\n 'dateUpdated': '2018-06-13T19:39:02Z',\n 'ean': 'nan',\n 'imageURLs': 'https://images-na.ssl-images-amazon.com/images/I/61Kics6Lb6L._SL1000_.jpg,https://images-na.ssl-images-amazon.com/images/I/711eiviQlrL._SL1000_.jpg,https://images-na.ssl-images-amazon.com/images/I/81u-s89bgBL._SL1200_.jpg,https://i5.walmartimages.com/asr/74c07193-fdd2-4805-b67f-d2b5553e2cc6_1.4c9f38f2159dccc05a252108d2f0063a.jpeg%25253FodnHeight%25253D450%252526odnWidth%25253D450%252526odnBg%25253DFFFFFF,https://images-na.ssl-images-amazon.com/images/I/61aMLhXEwuL._SL1000_.jpg,https://images-na.ssl-images-amazon.com/images/I/71icdizou0L._SL1000_.jpg,https://images-na.ssl-images-amazon.com/images/I/61h-FVEPPwL._SL1000_.jpg,http://pisces.bbystatic.com/image2/BestBuy_US/images/products/4784/4784804_sa.jpg%25253BcanvasHeight%25253D62%25253BcanvasWidth%25253D105,http://ecx.images-amazon.com/images/I/61sS8kB7%2525252BiL._SS40_.jpg,http://i5.walmartimages.com/asr/74c07193-fdd2-4805-b67f-d2b5553e2cc6_1.4c9f38f2159dccc05a252108d2f0063a.jpeg%25253FodnHeight%25253D450%252526odnWidth%25253D450,http://ecx.images-amazon.com/images/I/51lkrUdWo4L._SS40_.jpg,https://images-na.ssl-images-amazon.com/images/I/911i17jfgSL._SL1200_.jpg,http://ecx.images-amazon.com/images/I/41PV4NULddL._SS40_.jpg,https://images-na.ssl-images-amazon.com/images/I/61tggO6YfJL._SL1000_.jpg,https://i5.walmartimages.com/asr/a45cfc55-5582-477f-864e-98a7eef66dac_1.78537deb0709b060fb2cd0bf4a42a857.jpeg%25253FodnHeight%25253D450%252526odnWidth%25253D450%252526odnBg%25253DFFFFFF,http://ecx.images-amazon.com/images/I/51ppGqqe71L._SS40_.jpg,http://ecx.images-amazon.com/images/I/61i5cYizN3L._SS40_.jpg,http://i5.walmartimages.com/dfw/dce07b8c-ec5f/k2-_35ee0140-64cf-460f-810d-8a45a49d19c4.v1.jpg,https://i5.walmartimages.com/asr/12260342-6ea1-459e-a134-cb5596954db9_1.15f37cbb397bf10de33b96fc7d97e8c9.jpeg%25253FodnHeight%25253D450%252526odnWidth%25253D450%252526odnBg%25253DFFFFFF,https://pisces.bbystatic.com/image2/BestBuy_US/images/products/4784/4784804_sa.jpg,http://i5.walmartimages.com/dfw/dce07b8c-a103/k2-_b13cbfcb-0deb-4710-b77b-f5dc742cf386.v1.jpg%25253FodnHeight%25253D450%252526odnWidth%25253D450,http://ecx.images-amazon.com/images/I/51xVLqpEVML._SX300_QL70_.jpg,https://images-na.ssl-images-amazon.com/images/I/61O5ka-5QVL._SL1000_.jpg,http://ecx.images-amazon.com/images/I/41FYu8uoHYL._SS40_.jpg,http://ecx.images-amazon.com/images/I/519FaJz1PkL._SS40_.jpg,http://ecx.images-amazon.com/images/I/41XrGNCTY2L._SS40_.jpg,https://images-na.ssl-images-amazon.com/images/I/71-mHPUOUGL._SL1200_.jpg,http://i5.walmartimages.com/dfw/dce07b8c-e145/k2-_40b4222d-fe36-4571-8da8-503820367368.v1.jpg,http://ecx.images-amazon.com/images/I/51V4e5NrfPL._SS40_.jpg,http://ecx.images-amazon.com/images/I/51XFpijdESL._SS40_.jpg,http://pisces.bbystatic.com/image2/BestBuy_US/images/products/4784/4784804_sa.jpg,http://ecx.images-amazon.com/images/I/51V4e5NrfPL._SX300_QL70_.jpg,https://images-na.ssl-images-amazon.com/images/I/91z50Cmlr0L._SL1200_.jpg,https://images-na.ssl-images-amazon.com/images/I/71DAPHxdzyL._SL1000_.jpg,http://ecx.images-amazon.com/images/I/51uwNGsNSiL._SS40_.jpg,https://images-na.ssl-images-amazon.com/images/I/713E5mnxSOL._SL1000_.jpg,http://ecx.images-amazon.com/images/I/310imryhfxL._SS40_.jpg,http://ecx.images-amazon.com/images/I/51xVLqpEVML._SS40_.jpg,http://ecx.images-amazon.com/images/I/41hUH7AbcNL._SS40_.jpg',\n 'keys': 'boytone2500w21chhometheatersystemblackdiamond/b018k251je,boytone2500w21chhometheatersystemblackdiamond/4784804,boytone2500w21chhometheatersystemblackdiamond/b00vilqkq8,boytone/bt210f,boytone2500w21chhometheatersystemblackdiamond/554725012,642014746682',\n 'manufacturer': 'Boytone',\n 'manufacturerNumber': 'BT-210F',\n 'name': 'Boytone - 2500W 2.1-Ch. Home Theater System - Black Diamond',\n 'primaryCategories': 'Electronics',\n 'sourceURLs': 'http://reviews.bestbuy.com/3545/4784804/reviews.htm%25253Fformat%25253Dembedded%252526page%25253D2,http://reviews.bestbuy.com/3545/4784804/reviews.htm%25253Fformat%25253Dembedded%252526page%25253D3,http://reviews.bestbuy.com/3545/4784804/reviews.htm%25253Fformat%25253Dembedded%252526page%25253D4,https://reviews.bestbuy.com/3545/4784804/reviews.htm%253Fformat%253Dembedded,http://reviews.bestbuy.com/3545/4784804/reviews.htm%25253Fformat%25253Dembedded%252526page%25253D5,https://www.bestbuy.com/site/boytone-2500w-2-1-ch-home-theater-system-black-diamond/4784804.p%25253FskuId%25253D4784804,https://www.walmart.com/ip/BOYTONE-BT210FB-BLACK-2-1-MULTIMEDIA-SPEAKER-SYSTEM-WITH/47368142,https://www.ebay.com/urw/product-reviews/1937905520%25253F_itm%25253D202139757726,http://www.walmart.com/ip/Boytone-Bt210f-Black-2.1-Multimedia-Speaker-System-With/48645984,http://reviews.bestbuy.com/3545/4784804/reviews.htm%25253Fformat%25253Dembedded,https://www.ebay.com/urw/product-reviews/1937905520%25253F_itm%25253D322655773714,https://www.amazon.com/Boytone-BT-210FB-Wireless-Bluetooth-Excellent/dp/B018K251JE/,http://www.amazon.com/Boytone-BT-210FD-Bluetooth-Smartphones-Computers/dp/B00VILQKQ8,https://www.amazon.com/Boytone-BT-210FD-Bluetooth-Excellent-Smartphones/dp/B00VILQKQ8/,https://www.walmart.com/reviews/product/47368142,https://reviews.bestbuy.com/3545/4784804/reviews.htm%25253Fformat%25253Dembedded,http://www.amazon.com/Boytone-BT-210F-Bluetooth-excellent-Smartphones/dp/B00VILQKQ8,http://www.bestbuy.com/site/boytone-2500w-2-1-ch-home-theater-system-black-diamond/4784804.p%25253FskuId%25253D4784804,http://www.walmart.com/ip/Boytone-BT-210F-Bluetooth-Speaker/47368142,https://reviews.bestbuy.com/3545/4784804/reviews.htm%2525253Fformat%2525253Dembedded%25252526page%2525253D2,https://reviews.bestbuy.com/3545/4784804/reviews.htm%25253Fformat%25253Dembedded%252526page%25253D7,http://www.amazon.com/Boytone-Bluetooth-excellent-Smartphones-Computers/dp/B00VILQKQ8,https://reviews.bestbuy.com/3545/4784804/reviews.htm%25253Fformat%25253Dembedded%252526page%25253D6,https://reviews.bestbuy.com/3545/4784804/reviews.htm%25253Fformat%25253Dembedded%252526page%25253D5,https://reviews.bestbuy.com/3545/4784804/reviews.htm%25253Fformat%25253Dembedded%252526page%25253D4,https://reviews.bestbuy.com/3545/4784804/reviews.htm%25253Fformat%25253Dembedded%252526page%25253D3,https://www.amazon.com/Boytone-BT-210FD-Bluetooth-Excellent-Smartphones/dp/B00VILQKQ8,https://reviews.bestbuy.com/3545/4784804/reviews.htm%25253Fformat%25253Dembedded%252526page%25253D2,https://reviews.bestbuy.com/3545/4784804/reviews.htm%2525253Fformat%2525253Dembedded%25252526page%2525253D8,https://reviews.bestbuy.com/3545/4784804/reviews.htm%2525253Fformat%2525253Dembedded%25252526page%2525253D7,https://reviews.bestbuy.com/3545/4784804/reviews.htm%2525253Fformat%2525253Dembedded%25252526page%2525253D6,https://reviews.bestbuy.com/3545/4784804/reviews.htm%2525253Fformat%2525253Dembedded%25252526page%2525253D5,https://reviews.bestbuy.com/3545/4784804/reviews.htm%2525253Fformat%2525253Dembedded%25252526page%2525253D4,https://reviews.bestbuy.com/3545/4784804/reviews.htm%2525253Fformat%2525253Dembedded%25252526page%2525253D3,https://www.walmart.com/ip/Boytone-BT-210F-Bluetooth-Speaker/47368142',\n 'upc': '6.42E+11',\n 'weight': '14 pounds'}"
     },
     "execution_count": 3,
     "metadata": {},
     "output_type": "execute_result"
    }
   ],
   "source": [
    "def get_correct_item(item: dict):\n",
    "    new_item = copy.deepcopy(item)\n",
    "    for key, value in item.items():\n",
    "        if value is None:\n",
    "            new_item[key] = 'nan'\n",
    "            continue\n",
    "        if not isinstance(value, (int, float, str)):\n",
    "            new_item[key] = str(value)\n",
    "        if isinstance(value, bool):\n",
    "            new_item[key] = str(value)\n",
    "    return new_item\n",
    "\n",
    "\n",
    "items = []\n",
    "df.apply(lambda x: items.append(get_correct_item(x.to_dict())), axis=1)\n",
    "\n",
    "item = items[3]\n",
    "item"
   ],
   "metadata": {
    "collapsed": false,
    "pycharm": {
     "name": "#%%\n"
    }
   }
  },
  {
   "cell_type": "code",
   "execution_count": 10,
   "outputs": [],
   "source": [
    "from redis import Redis\n",
    "\n",
    "rc = Redis(host='localhost', port=6379)"
   ],
   "metadata": {
    "collapsed": false,
    "pycharm": {
     "name": "#%%\n"
    }
   }
  },
  {
   "cell_type": "code",
   "execution_count": 11,
   "outputs": [
    {
     "ename": "AttributeError",
     "evalue": "'Redis' object has no attribute 'get_nodes'",
     "output_type": "error",
     "traceback": [
      "\u001B[0;31m---------------------------------------------------------------------------\u001B[0m",
      "\u001B[0;31mAttributeError\u001B[0m                            Traceback (most recent call last)",
      "Cell \u001B[0;32mIn[11], line 1\u001B[0m\n\u001B[0;32m----> 1\u001B[0m \u001B[43mrc\u001B[49m\u001B[38;5;241;43m.\u001B[39;49m\u001B[43mget_nodes\u001B[49m()\n",
      "\u001B[0;31mAttributeError\u001B[0m: 'Redis' object has no attribute 'get_nodes'"
     ]
    }
   ],
   "source": [
    "rc.get_nodes()"
   ],
   "metadata": {
    "collapsed": false,
    "pycharm": {
     "name": "#%%\n"
    }
   }
  },
  {
   "cell_type": "code",
   "execution_count": 7,
   "outputs": [
    {
     "data": {
      "text/plain": "7249"
     },
     "execution_count": 7,
     "metadata": {},
     "output_type": "execute_result"
    }
   ],
   "source": [
    "len(items)"
   ],
   "metadata": {
    "collapsed": false,
    "pycharm": {
     "name": "#%%\n"
    }
   }
  },
  {
   "cell_type": "code",
   "execution_count": 83,
   "outputs": [
    {
     "data": {
      "text/plain": "{'id': 'AV161e3vglJLPUi8PSYO',\n 'prices.amountMax': 1449.0,\n 'prices.amountMin': 1449.0,\n 'prices.availability': 'In Stock',\n 'prices.condition': 'New',\n 'prices.currency': 'USD',\n 'prices.dateSeen': '2018-05-04T08:00:00Z,2017-11-18T13:00:00Z,2018-04-26T17:00:00Z,2018-05-07T13:00:00Z,2018-06-02T15:00:00Z,2018-06-01T11:00:00Z,2017-12-04T18:00:00Z,2017-12-06T11:00:00Z,2017-12-06T10:00:00Z',\n 'prices.isSale': 'False',\n 'prices.merchant': 'bhphotovideo.com',\n 'prices.shipping': 'Free Expedited Shipping for most orders over $49',\n 'prices.sourceURLs': 'https://www.bhphotovideo.com/c/product/1342526-REG/apple_mnyl2ll_a_12_macbook_mid_2017.html',\n 'asins': 'B072QGJNVC',\n 'brand': 'Apple',\n 'categories': 'Computers,MacBook,Computers & Accessories,Traditional Laptops,MacBooks,Featured Laptops,Computers & Tablets,Electronics,Laptops,All Laptops',\n 'dateAdded': '2017-07-25T17:40:26Z',\n 'dateUpdated': '2018-06-21T21:33:13Z',\n 'ean': 'nan',\n 'imageURLs': 'https://pisces.bbystatic.com/image2/BestBuy_US/images/products/4599/4599500_sa.jpg,https://static.bhphoto.com/images/itemImgPlaceholder.jpg,https://pisces.bbystatic.com/image2/BestBuy_US/images/products/4599/4599500_sd.jpg,https://static.bhphoto.com/images/images500x500/apple_mnyl2ll_a_12_macbook_mid_2017_1496786969000_1342526.jpg,https://pisces.bbystatic.com/image2/BestBuy_US/images/products/4599/4599500cv11d.jpg,https://pisces.bbystatic.com/image2/BestBuy_US/images/products/4599/4599500cv13d.jpg,https://pisces.bbystatic.com/image2/BestBuy_US/images/products/4599/4599500cv12d.jpg',\n 'keys': 'applemacbook12displayintelcorei58gbmemory512gbflashstoragelatestmodelgold/5465900,190198204639,apple/mnyl2lla,applemacbook12displayintelcorei58gbmemory512gbflashstoragelatestmodelgold/4599500,apple12macbook/b072qgjnvc,applemacbook12displayintelcorei58gbmemory512gbflashstoragelatestmodelgold/4599400,12macbookmid2017gold/apmnyl2lla,applemacbook12displayintelcorei58gbmemory512gbflashstoragelatestmodelgold/4599200,applemacbook12displayintelcorei58gbmemory/4599500',\n 'manufacturer': 'nan',\n 'manufacturerNumber': 'MNYL2LL/A',\n 'name': '12 MacBook (Mid 2017, Gold)',\n 'primaryCategories': 'Electronics',\n 'sourceURLs': 'https://www.bhphotovideo.com/c/product/1342526-REG/apple_mnyl2ll_a_12_macbook_mid_2017.html,http://www.bestbuy.com/site/products/4599500.p,http://reviews.bestbuy.com/3545/4599500/reviews.htm%2525253Fformat%2525253Dembedded,https://reviews.bestbuy.com/3545/4599500/reviews.htm%25253Fformat%25253Dembedded%252526page%25253D6,http://www.bestbuy.com/site/apple-macbook-12-display-intel-core-i5-8gb-memory-512gb-flash-storage-latest-model-gold/4599500.p%2525253FskuId%2525253D4599500,https://reviews.bestbuy.com/3545/4599500/reviews.htm%25253Fformat%25253Dembedded%252526page%25253D4,https://reviews.bestbuy.com/3545/4599500/reviews.htm%25253Fformat%25253Dembedded%252526page%25253D5,https://reviews.bestbuy.com/3545/4599500/reviews.htm%25253Fformat%25253Dembedded%252526page%25253D2,https://reviews.bestbuy.com/3545/4599500/reviews.htm%25253Fformat%25253Dembedded%252526page%25253D3,https://reviews.bestbuy.com/3545/4599500/reviews.htm%252525253Fformat%252525253Dembedded%2525252526page%252525253D4,https://reviews.bestbuy.com/3545/4599500/reviews.htm%252525253Fformat%252525253Dembedded%2525252526page%252525253D5,https://reviews.bestbuy.com/3545/4599500/reviews.htm%252525253Fformat%252525253Dembedded%2525252526page%252525253D2,https://www.bestbuy.com/site/products/4599500.p,https://www.bestbuy.com/site/apple-macbook-12-display-intel-core-i5-8gb-memory-512gb-flash-storage-latest-model-gold/4599500.p%2525253FskuId%2525253D4599500,https://reviews.bestbuy.com/3545/4599500/reviews.htm%252525253Fformat%252525253Dembedded%2525252526page%252525253D3,https://reviews.bestbuy.com/3545/4599500/reviews.htm%252525253Fformat%252525253Dembedded%2525252526page%252525253D6,https://www.amazon.com/Apple-MacBook-Processor-MNYL2LL-Version/dp/B072QGJNVC/,https://reviews.bestbuy.com/3545/4599500/reviews.htm%2525253Fformat%2525253Dembedded',\n 'upc': '1.90E+11',\n 'weight': '2.03 lb'}"
     },
     "execution_count": 83,
     "metadata": {},
     "output_type": "execute_result"
    }
   ],
   "source": [
    "item"
   ],
   "metadata": {
    "collapsed": false,
    "pycharm": {
     "name": "#%%\n"
    }
   }
  },
  {
   "cell_type": "code",
   "execution_count": 12,
   "outputs": [],
   "source": [
    "for item in items:\n",
    "    rc.set(item['id'], json.dumps(item))\n",
    "    rc.hset(name='hset_' + item['id'], mapping=item)\n",
    "    rc.lpush('devices', json.dumps(item))\n",
    "    rc.zadd('sorted_set_devices', {item['id']: item['prices.amountMin']})"
   ],
   "metadata": {
    "collapsed": false,
    "pycharm": {
     "name": "#%%\n"
    }
   }
  },
  {
   "cell_type": "markdown",
   "source": [],
   "metadata": {
    "collapsed": false,
    "pycharm": {
     "name": "#%% md\n"
    }
   }
  },
  {
   "cell_type": "code",
   "execution_count": 43,
   "outputs": [
    {
     "ename": "TypeError",
     "evalue": "HashCommands.hget() missing 1 required positional argument: 'key'",
     "output_type": "error",
     "traceback": [
      "\u001B[0;31m---------------------------------------------------------------------------\u001B[0m",
      "\u001B[0;31mTypeError\u001B[0m                                 Traceback (most recent call last)",
      "Cell \u001B[0;32mIn[43], line 1\u001B[0m\n\u001B[0;32m----> 1\u001B[0m \u001B[43mrc\u001B[49m\u001B[38;5;241;43m.\u001B[39;49m\u001B[43mhget\u001B[49m\u001B[43m(\u001B[49m\u001B[38;5;124;43m'\u001B[39;49m\u001B[38;5;124;43mhset_AVphzgbJLJeJML43fA0o\u001B[39;49m\u001B[38;5;124;43m'\u001B[39;49m\u001B[43m)\u001B[49m\n",
      "\u001B[0;31mTypeError\u001B[0m: HashCommands.hget() missing 1 required positional argument: 'key'"
     ]
    }
   ],
   "source": [
    "rc.hget(name='hset_AVphzgbJLJeJML43fA0o')"
   ],
   "metadata": {
    "collapsed": false,
    "pycharm": {
     "name": "#%%\n"
    }
   }
  }
 ],
 "metadata": {
  "kernelspec": {
   "display_name": "Python 3",
   "language": "python",
   "name": "python3"
  },
  "language_info": {
   "codemirror_mode": {
    "name": "ipython",
    "version": 2
   },
   "file_extension": ".py",
   "mimetype": "text/x-python",
   "name": "python",
   "nbconvert_exporter": "python",
   "pygments_lexer": "ipython2",
   "version": "2.7.6"
  }
 },
 "nbformat": 4,
 "nbformat_minor": 0
}